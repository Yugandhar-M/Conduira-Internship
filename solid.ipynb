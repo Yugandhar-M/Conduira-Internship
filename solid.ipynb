{
 "cells": [
  {
   "cell_type": "markdown",
   "source": [
    "# Demonstration of SOLID Design Principles in Python"
   ],
   "metadata": {}
  },
  {
   "cell_type": "markdown",
   "source": [
    "## 1. Single Responsibility Principle (SRP)\r\n",
    "*A Software component must have only one responsibility and hence only one reason to change.*"
   ],
   "metadata": {}
  },
  {
   "cell_type": "markdown",
   "source": [
    "### Before SRP Implementation\r\n",
    "Here the class **TwoNumberCalculator** has two independant responsibilites:\r\n",
    "1. Doing calculations (like addition and subtraction)\r\n",
    "2. Displaying summary of two numbers\r\n",
    "\r\n",
    "The above design is against the SRP principle.\r\n"
   ],
   "metadata": {}
  },
  {
   "cell_type": "code",
   "execution_count": 32,
   "source": [
    "class TwoNumberCalculator():\r\n",
    "    \r\n",
    "    def __init__(self,first_num,second_num):\r\n",
    "        self.first = first_num\r\n",
    "        self.second = second_num\r\n",
    "    \r\n",
    "    def __str__(self) -> str:\r\n",
    "        return f'{self.first},{self.second}'\r\n",
    "\r\n",
    "    def addition(self):\r\n",
    "        return self.first + self.second\r\n",
    "\r\n",
    "    def subtraction(self):\r\n",
    "        return self.first - self.second\r\n",
    "\r\n",
    "    def get_summary(self):\r\n",
    "        print(f\"\"\"The two numbers are {self.first} and {self.second}.\\nAddition of two numbers is {self.addition()}.\\nSubration of two numbers is {self.subtraction()}\"\"\")\r\n"
   ],
   "outputs": [],
   "metadata": {}
  },
  {
   "cell_type": "markdown",
   "source": [
    "### After SRP Implementation\r\n",
    "Here the independent responsibilities are splitted into two seperate classes namely **TwoNumberCalculator** and **Summary**.\r\n",
    "\r\n",
    "Now each of the class has exactly one reponsibility."
   ],
   "metadata": {}
  },
  {
   "cell_type": "code",
   "execution_count": 33,
   "source": [
    "class TwoNumberCalculator():\r\n",
    "    \r\n",
    "    def __init__(self,first_num,second_num):\r\n",
    "        self.first = first_num\r\n",
    "        self.second = second_num\r\n",
    "    \r\n",
    "    def __str__(self) -> str:\r\n",
    "        return f'{self.first},{self.second}'\r\n",
    "\r\n",
    "    def addition(self):\r\n",
    "        return self.first + self.second\r\n",
    "\r\n",
    "    def subtraction(self):\r\n",
    "        return self.first - self.second\r\n",
    "\r\n",
    "class Summary():\r\n",
    "    def get_summary(self,TwoNumberCalculatorObject):\r\n",
    "        print(f\"\"\"The two numbers are {TwoNumberCalculatorObject.first} and {TwoNumberCalculatorObject.second}.\\nAddition of two numbers is {TwoNumberCalculatorObject.addition()}.\\nSubration of two numbers is {TwoNumberCalculatorObject.subtraction()}\"\"\")\r\n"
   ],
   "outputs": [],
   "metadata": {}
  },
  {
   "cell_type": "markdown",
   "source": [
    "## 2. Open-Closed Principle (OCP)\r\n",
    "*Software entities should be open for extension and closed for modification.*"
   ],
   "metadata": {}
  },
  {
   "cell_type": "markdown",
   "source": [
    "### Before OCP Implementation\r\n",
    "If we want to search the album by other means say year, etc... We have to write new method every time.\r\n",
    "This violates the OCP Principle.\r\n"
   ],
   "metadata": {}
  },
  {
   "cell_type": "code",
   "execution_count": 34,
   "source": [
    "class Album:\r\n",
    "    def __init__(self, name, artist, songs, genre):\r\n",
    "        self.name = name\r\n",
    "        self.artist = artist\r\n",
    "        self.songs = songs\r\n",
    "        self.genre = genre\r\n",
    "\r\n",
    "class AlbumBrowser:\r\n",
    "    def search_album_by_artist(self, albums, artist):\r\n",
    "        return [album for album in albums if album.artist == artist]    \r\n",
    "    def search_album_by_genre(self, albums, genre):\r\n",
    "        return [album for album in albums if album.genre == genre]"
   ],
   "outputs": [],
   "metadata": {}
  },
  {
   "cell_type": "markdown",
   "source": [
    "### After OCP Implementation\r\n",
    "Here the program is redesigned in a way that it satisfies OCP principle. Now it can be extended without any issue."
   ],
   "metadata": {}
  },
  {
   "cell_type": "code",
   "execution_count": 35,
   "source": [
    "class SearchBy:\r\n",
    "    def is_matched(self, album):\r\n",
    "        pass\r\n",
    "      \r\n",
    "class SearchByGenre(SearchBy):\r\n",
    "    def __init__(self, genre):\r\n",
    "        self.genre = genre    \r\n",
    "    def is_matched(self, album):\r\n",
    "        return album.genre == self.genre\r\n",
    "    \r\n",
    "class SearchByArtist(SearchBy):\r\n",
    "    def __init__(self, artist):\r\n",
    "        self.artist = artist    \r\n",
    "    def is_matched(self, album):\r\n",
    "        return album.artist == self.artist\r\n",
    " "
   ],
   "outputs": [],
   "metadata": {}
  },
  {
   "cell_type": "markdown",
   "source": [
    "## 3. Liskov Subtituion Principle (LSP)\r\n",
    "*The interface of a subclass should be the same as the interface of the base class, and the subclass should behave in the same way as the base class.*"
   ],
   "metadata": {}
  },
  {
   "cell_type": "markdown",
   "source": [
    "### Before LSP Implementation\r\n",
    "In the below example, volume is not defined for a **Sqaure** class. So the child class cannot make use of parent class violating LSP Principle.\r\n"
   ],
   "metadata": {}
  },
  {
   "cell_type": "code",
   "execution_count": 36,
   "source": [
    "class GeoObject():\r\n",
    "    def __init__(self) -> None:\r\n",
    "        pass\r\n",
    "    def get_perimeter():\r\n",
    "        pass\r\n",
    "    def get_area():\r\n",
    "        pass\r\n",
    "    def get_volume():\r\n",
    "        pass\r\n",
    "\r\n",
    "class Square(GeoObject):\r\n",
    "    def __init__(self,length) -> None:\r\n",
    "        self.length = length\r\n",
    "    def get_area(self):\r\n",
    "        return pow(self.length,2)\r\n",
    "    def get_perimeter(self):\r\n",
    "        return self.length*4"
   ],
   "outputs": [],
   "metadata": {}
  },
  {
   "cell_type": "markdown",
   "source": [
    "### After LSP Implementation\r\n",
    "Here we seperated 2D and 2D geometric object classes. And inhereited only 2D class in **Square** definition. Now all methods in parent class are meaningful to child class also."
   ],
   "metadata": {}
  },
  {
   "cell_type": "code",
   "execution_count": 37,
   "source": [
    "class TwoDimObject():\r\n",
    "    def __init__(self) -> None:\r\n",
    "        pass\r\n",
    "    def get_perimeter():\r\n",
    "        pass\r\n",
    "    def get_area():\r\n",
    "        pass\r\n",
    "\r\n",
    "class ThreeDimObject(TwoDimObject):\r\n",
    "    def get_volume():\r\n",
    "        pass\r\n",
    "\r\n",
    "class Square(TwoDimObject):\r\n",
    "    def __init__(self,length) -> None:\r\n",
    "        self.length = length\r\n",
    "    def get_area(self):\r\n",
    "        return pow(self.length,2)\r\n",
    "    def get_perimeter(self):\r\n",
    "        return self.length*4"
   ],
   "outputs": [],
   "metadata": {}
  },
  {
   "cell_type": "markdown",
   "source": [
    "## 4. Interface Segregation Principle (ISP)\r\n",
    "*Clients should not be forced to depend upon interfaces that they do not use. All Interfaces should be as small as possible*"
   ],
   "metadata": {}
  },
  {
   "cell_type": "markdown",
   "source": [
    "### Before ISP Implementation\r\n",
    "Here actually there are no lyrics for Instrumental Songs. But still calling in child class which is against ISP."
   ],
   "metadata": {}
  },
  {
   "cell_type": "code",
   "execution_count": 38,
   "source": [
    "class PlaySongs:\r\n",
    "    def __init__(self, title):\r\n",
    "        self.title = title    \r\n",
    "    def play_drums(self):\r\n",
    "        print(\"Ba-dum ts\")    \r\n",
    "    def play_guitar(self):\r\n",
    "        print(\"*Soul-moving guitar solo*\")    \r\n",
    "    def sing_lyrics(self):\r\n",
    "        print(\"NaNaNaNa\")\r\n",
    "        \r\n",
    "class PlayRockSongs(PlaySongs): \r\n",
    "    def play_guitar(self):\r\n",
    "        print(\"*Very metal guitar solo*\")    \r\n",
    "    def sing_lyrics(self):\r\n",
    "        print(\"I wanna rock and roll all night\")\r\n",
    "\r\n",
    "class PlayInstrumentalSongs(PlaySongs):\r\n",
    "    def sing_lyrics(self):\r\n",
    "        raise Exception(\"No lyrics for instrumental songs\")"
   ],
   "outputs": [],
   "metadata": {}
  },
  {
   "cell_type": "markdown",
   "source": [
    "### After ISP Implementation\r\n",
    "Now, after ISP Implementation, we can call only the interfaces we need."
   ],
   "metadata": {}
  },
  {
   "cell_type": "code",
   "execution_count": 39,
   "source": [
    "from abc import ABCMeta, abstractmethod\r\n",
    "\r\n",
    "class PlaySongsLyrics:\r\n",
    "    @abstractmethod\r\n",
    "    def sing_lyrics(self, title):\r\n",
    "        pass\r\n",
    "\r\n",
    "class PlaySongsMusic:\r\n",
    "    @abstractmethod\r\n",
    "    def play_guitar(self, title):\r\n",
    "        pass    \r\n",
    "    @abstractmethod\r\n",
    "    def play_drums(self, title):\r\n",
    "        pass\r\n",
    "\r\n",
    "class PlayInstrumentalSong(PlaySongsMusic):\r\n",
    "    def play_drums(self, title):\r\n",
    "        print(\"Ba-dum ts\")   \r\n",
    "    def play_guitar(self, title):\r\n",
    "        print(\"*Soul-moving guitar solo*\")\r\n",
    "\r\n",
    "class PlayRockSong(PlaySongsMusic, PlaySongsLyrics):\r\n",
    "    def play_guitar(self):\r\n",
    "        print(\"*Very metal guitar solo*\")    \r\n",
    "    def sing_lyrics(self):\r\n",
    "        print(\"I wanna rock and roll all night\")    \r\n",
    "    def play_drums(self, title):\r\n",
    "        print(\"Ba-dum ts\")"
   ],
   "outputs": [],
   "metadata": {}
  },
  {
   "cell_type": "markdown",
   "source": [
    "## 5. Dependency Inversion Principle (DIP)\r\n",
    "*High-level modules should not depend on low-level modules. Both should depend on abstractions. Abstractions should not depend on details. Details should depend on abstractions.*"
   ],
   "metadata": {}
  },
  {
   "cell_type": "markdown",
   "source": [
    "### Before DIP Implementation\r\n",
    "In below example, if we change the ordering of elements in tuple within **AlbumSrote** class, the program would break if the change is not make in **ViewRockAlbums** accordingly as it's workind is dependent on structure of tuple in other class. This is against DSP Principle."
   ],
   "metadata": {}
  },
  {
   "cell_type": "code",
   "execution_count": 40,
   "source": [
    "class AlbumStore:\r\n",
    "    albums = []    \r\n",
    "    def add_album(self, name, artist, genre):\r\n",
    "        self.albums.append((name, artist, genre))\r\n",
    "        \r\n",
    "class ViewRockAlbums:\r\n",
    "    def __init__(self, album_store):\r\n",
    "        for album in album_store.albums:\r\n",
    "            if album[2] == \"Rock\":\r\n",
    "                print(f\"We have {album[0]} in store.\")"
   ],
   "outputs": [],
   "metadata": {}
  },
  {
   "cell_type": "markdown",
   "source": [
    "### After DIP Implementation\r\n",
    "Here, the **ViewRockAlbums** class is independent of ordering of elements in tuple by introducing **filter_by_genre** method in **MyAlbumStore** which takes care of ordering of elements in tuple."
   ],
   "metadata": {}
  },
  {
   "cell_type": "code",
   "execution_count": 41,
   "source": [
    "class GeneralAlbumStore:\r\n",
    "    @abstractmethod\r\n",
    "    def filter_by_genre(self, genre):\r\n",
    "        pass\r\n",
    "\r\n",
    "class MyAlbumStore(GeneralAlbumStore):\r\n",
    "    albums = []    \r\n",
    "    def add_album(self, name, artist, genre):\r\n",
    "        self.albums.append((name, artist, genre))    \r\n",
    "    def filter_by_genre(self, genre):\r\n",
    "        if albums[2] == genre:\r\n",
    "            yield albums[0]\r\n",
    "\r\n",
    "class ViewRockAlbums:\r\n",
    "    def __init__(self, album_store):\r\n",
    "        for album_name in album_store.filter_by_genre(\"Rock\"):\r\n",
    "            print(f\"We have {album_name} in store.\")"
   ],
   "outputs": [],
   "metadata": {}
  }
 ],
 "metadata": {
  "orig_nbformat": 4,
  "language_info": {
   "name": "python",
   "version": "3.9.7",
   "mimetype": "text/x-python",
   "codemirror_mode": {
    "name": "ipython",
    "version": 3
   },
   "pygments_lexer": "ipython3",
   "nbconvert_exporter": "python",
   "file_extension": ".py"
  },
  "kernelspec": {
   "name": "python3",
   "display_name": "Python 3.9.7 64-bit"
  },
  "interpreter": {
   "hash": "63fd5069d213b44bf678585dea6b12cceca9941eaf7f819626cde1f2670de90d"
  }
 },
 "nbformat": 4,
 "nbformat_minor": 2
}